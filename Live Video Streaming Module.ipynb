{
 "cells": [
  {
   "cell_type": "code",
   "execution_count": 16,
   "id": "010bb177",
   "metadata": {},
   "outputs": [],
   "source": [
    "import cv2"
   ]
  },
  {
   "cell_type": "code",
   "execution_count": 17,
   "id": "4e7c3c41",
   "metadata": {},
   "outputs": [],
   "source": [
    "cap = cv2.VideoCapture(0)"
   ]
  },
  {
   "cell_type": "code",
   "execution_count": 18,
   "id": "f680f8cf",
   "metadata": {},
   "outputs": [],
   "source": [
    "fourcc = cv2.VideoWriter_fourcc(*'XVID')"
   ]
  },
  {
   "cell_type": "code",
   "execution_count": 19,
   "id": "418ffc84",
   "metadata": {},
   "outputs": [],
   "source": [
    "save = cv2.VideoWriter(\"Today's_Live_Streaming.avi\" , fourcc , 20.0 , (640,480) )"
   ]
  },
  {
   "cell_type": "code",
   "execution_count": 20,
   "id": "20259e64",
   "metadata": {},
   "outputs": [],
   "source": [
    "while(True):\n",
    "    x , y = cap.read()\n",
    "    if x == True: \n",
    "        save.write(y)\n",
    "        # gray = cv2.cvtColor(y,cv2.COLOR_BGR2GRAY)\n",
    "        cv2.imshow('Live Video Streaming' , y)\n",
    "        key  = cv2.waitKey(5)\n",
    "        if key == ord('q'):\n",
    "            cap.release()\n",
    "            break \n",
    "    else:\n",
    "        break\n",
    "        \n",
    "save.release()\n",
    "cv2.destroyAllWindows()"
   ]
  },
  {
   "cell_type": "code",
   "execution_count": null,
   "id": "c67a8f70",
   "metadata": {},
   "outputs": [],
   "source": [
    "# print(cap.get(cv2.CAP_PROP_FRAME_HEIGHT)) : To know the height of the frames of the video streaming\n",
    "# print(cap.get(cv2.CAP_PROP_FRAME_WIDTH)) : To know the width of the frames of the video streaming\n",
    "# cv2.VideoWriter(\"name of the file u want to save the video\" , fourcc code , fps , (width and height))"
   ]
  }
 ],
 "metadata": {
  "kernelspec": {
   "display_name": "Python 3",
   "language": "python",
   "name": "python3"
  },
  "language_info": {
   "codemirror_mode": {
    "name": "ipython",
    "version": 3
   },
   "file_extension": ".py",
   "mimetype": "text/x-python",
   "name": "python",
   "nbconvert_exporter": "python",
   "pygments_lexer": "ipython3",
   "version": "3.8.8"
  }
 },
 "nbformat": 4,
 "nbformat_minor": 5
}
